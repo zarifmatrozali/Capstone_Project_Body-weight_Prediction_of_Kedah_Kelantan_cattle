{
 "cells": [
  {
   "cell_type": "markdown",
   "id": "2746fc0e",
   "metadata": {},
   "source": [
    "# Business Understanding"
   ]
  },
  {
   "cell_type": "markdown",
   "id": "5033a07f",
   "metadata": {},
   "source": [
    "Malaysia is home to the local breed of cattle known as Kedah-Kelantan (KK) cattle. A small cattle with a fatty hump and an underdeveloped dewlap. KK cattle herd have mostly brown coat, a strong body conformation, and reddish, black, and grey spots. It is a well-adapted but slower growth performance cattle. However, KK cattle possess high fertility with an excellent mothering ability. Other than high fertility, it also has high survivability and well-adapted to Malaysia climate (Islam et al., 2021). KK cattle are a major breed found in many states of Malaysia with approximately 67% of the cattle production in Malaysia belongs to the KK cattle breed (Ariff et al., 2015).\n",
    "\n",
    "Problem Statement:\n",
    "Determining the growth of cattle to be slaughtered to obtain the maximum amount of meat possible is crucial to support local meat demand which as of now the local meat production are unable to cater the local demand. According to Department of Statistics Malaysia (2021), the local meat production can only supply about 22.2 percent of demand in Malaysia whereas the rest of it is dependent on importation. to curb this issue, analysing the factor influencing the growth of cattle is needed, hence this warrants the need of this study.\n"
   ]
  },
  {
   "cell_type": "markdown",
   "id": "93413e74",
   "metadata": {},
   "source": [
    "Objective\n",
    "1. To build predictive models in predicting the growth of Kedah-Kelantan cattle.\n"
   ]
  },
  {
   "cell_type": "markdown",
   "id": "3987f671",
   "metadata": {},
   "source": [
    "# Data Understanding"
   ]
  },
  {
   "cell_type": "code",
   "execution_count": 27,
   "id": "4b033749",
   "metadata": {},
   "outputs": [],
   "source": [
    "## import libraries\n",
    "import pandas as pd\n",
    "import numpy as np\n",
    "\n",
    "import matplotlib\n",
    "import matplotlib.pyplot as plt\n",
    "from pandas.plotting import scatter_matrix\n",
    "%matplotlib inline\n",
    "\n",
    "import scipy.stats as stats\n",
    "import seaborn as sns \n",
    "\n",
    "#Standardise data value\n",
    "from sklearn.preprocessing import StandardScaler\n",
    "\n",
    "#Split data for train and test\n",
    "from sklearn.model_selection import train_test_split\n",
    "\n",
    "#remove warning message\n",
    "import warnings\n",
    "warnings.filterwarnings(\"ignore\")"
   ]
  },
  {
   "cell_type": "code",
   "execution_count": 2,
   "id": "f36de924",
   "metadata": {},
   "outputs": [
    {
     "data": {
      "text/html": [
       "<div>\n",
       "<style scoped>\n",
       "    .dataframe tbody tr th:only-of-type {\n",
       "        vertical-align: middle;\n",
       "    }\n",
       "\n",
       "    .dataframe tbody tr th {\n",
       "        vertical-align: top;\n",
       "    }\n",
       "\n",
       "    .dataframe thead th {\n",
       "        text-align: right;\n",
       "    }\n",
       "</style>\n",
       "<table border=\"1\" class=\"dataframe\">\n",
       "  <thead>\n",
       "    <tr style=\"text-align: right;\">\n",
       "      <th></th>\n",
       "      <th>body_weight</th>\n",
       "      <th>wither_height</th>\n",
       "      <th>body_length</th>\n",
       "      <th>head_length</th>\n",
       "      <th>sex</th>\n",
       "      <th>ad_libitum</th>\n",
       "      <th>castration</th>\n",
       "      <th>nth_born</th>\n",
       "      <th>age</th>\n",
       "    </tr>\n",
       "  </thead>\n",
       "  <tbody>\n",
       "    <tr>\n",
       "      <th>0</th>\n",
       "      <td>247.882550</td>\n",
       "      <td>99.609679</td>\n",
       "      <td>96.332741</td>\n",
       "      <td>42.947545</td>\n",
       "      <td>male</td>\n",
       "      <td>no</td>\n",
       "      <td>yes</td>\n",
       "      <td>6</td>\n",
       "      <td>29</td>\n",
       "    </tr>\n",
       "    <tr>\n",
       "      <th>1</th>\n",
       "      <td>248.306667</td>\n",
       "      <td>100.284966</td>\n",
       "      <td>97.998042</td>\n",
       "      <td>43.927223</td>\n",
       "      <td>male</td>\n",
       "      <td>yes</td>\n",
       "      <td>yes</td>\n",
       "      <td>5</td>\n",
       "      <td>35</td>\n",
       "    </tr>\n",
       "    <tr>\n",
       "      <th>2</th>\n",
       "      <td>247.077742</td>\n",
       "      <td>99.177838</td>\n",
       "      <td>103.598485</td>\n",
       "      <td>42.940533</td>\n",
       "      <td>male</td>\n",
       "      <td>no</td>\n",
       "      <td>no</td>\n",
       "      <td>7</td>\n",
       "      <td>34</td>\n",
       "    </tr>\n",
       "    <tr>\n",
       "      <th>3</th>\n",
       "      <td>268.219763</td>\n",
       "      <td>114.922591</td>\n",
       "      <td>115.669466</td>\n",
       "      <td>48.480783</td>\n",
       "      <td>male</td>\n",
       "      <td>yes</td>\n",
       "      <td>no</td>\n",
       "      <td>2</td>\n",
       "      <td>29</td>\n",
       "    </tr>\n",
       "    <tr>\n",
       "      <th>4</th>\n",
       "      <td>266.007489</td>\n",
       "      <td>114.763730</td>\n",
       "      <td>130.533058</td>\n",
       "      <td>50.311455</td>\n",
       "      <td>male</td>\n",
       "      <td>yes</td>\n",
       "      <td>yes</td>\n",
       "      <td>5</td>\n",
       "      <td>30</td>\n",
       "    </tr>\n",
       "    <tr>\n",
       "      <th>5</th>\n",
       "      <td>265.778997</td>\n",
       "      <td>115.400174</td>\n",
       "      <td>125.499043</td>\n",
       "      <td>52.516749</td>\n",
       "      <td>male</td>\n",
       "      <td>yes</td>\n",
       "      <td>yes</td>\n",
       "      <td>7</td>\n",
       "      <td>26</td>\n",
       "    </tr>\n",
       "    <tr>\n",
       "      <th>6</th>\n",
       "      <td>265.161335</td>\n",
       "      <td>116.866442</td>\n",
       "      <td>115.538738</td>\n",
       "      <td>54.917098</td>\n",
       "      <td>male</td>\n",
       "      <td>no</td>\n",
       "      <td>no</td>\n",
       "      <td>8</td>\n",
       "      <td>36</td>\n",
       "    </tr>\n",
       "    <tr>\n",
       "      <th>7</th>\n",
       "      <td>264.895007</td>\n",
       "      <td>115.491723</td>\n",
       "      <td>122.491197</td>\n",
       "      <td>53.028312</td>\n",
       "      <td>male</td>\n",
       "      <td>no</td>\n",
       "      <td>yes</td>\n",
       "      <td>7</td>\n",
       "      <td>35</td>\n",
       "    </tr>\n",
       "    <tr>\n",
       "      <th>8</th>\n",
       "      <td>264.813573</td>\n",
       "      <td>116.900076</td>\n",
       "      <td>116.242191</td>\n",
       "      <td>50.823161</td>\n",
       "      <td>male</td>\n",
       "      <td>yes</td>\n",
       "      <td>yes</td>\n",
       "      <td>2</td>\n",
       "      <td>35</td>\n",
       "    </tr>\n",
       "    <tr>\n",
       "      <th>9</th>\n",
       "      <td>264.793416</td>\n",
       "      <td>117.137736</td>\n",
       "      <td>115.502314</td>\n",
       "      <td>50.702256</td>\n",
       "      <td>male</td>\n",
       "      <td>no</td>\n",
       "      <td>yes</td>\n",
       "      <td>3</td>\n",
       "      <td>24</td>\n",
       "    </tr>\n",
       "  </tbody>\n",
       "</table>\n",
       "</div>"
      ],
      "text/plain": [
       "   body_weight  wither_height  body_length  head_length   sex ad_libitum  \\\n",
       "0   247.882550      99.609679    96.332741    42.947545  male         no   \n",
       "1   248.306667     100.284966    97.998042    43.927223  male        yes   \n",
       "2   247.077742      99.177838   103.598485    42.940533  male         no   \n",
       "3   268.219763     114.922591   115.669466    48.480783  male        yes   \n",
       "4   266.007489     114.763730   130.533058    50.311455  male        yes   \n",
       "5   265.778997     115.400174   125.499043    52.516749  male        yes   \n",
       "6   265.161335     116.866442   115.538738    54.917098  male         no   \n",
       "7   264.895007     115.491723   122.491197    53.028312  male         no   \n",
       "8   264.813573     116.900076   116.242191    50.823161  male        yes   \n",
       "9   264.793416     117.137736   115.502314    50.702256  male         no   \n",
       "\n",
       "  castration  nth_born  age  \n",
       "0        yes         6   29  \n",
       "1        yes         5   35  \n",
       "2         no         7   34  \n",
       "3         no         2   29  \n",
       "4        yes         5   30  \n",
       "5        yes         7   26  \n",
       "6         no         8   36  \n",
       "7        yes         7   35  \n",
       "8        yes         2   35  \n",
       "9        yes         3   24  "
      ]
     },
     "execution_count": 2,
     "metadata": {},
     "output_type": "execute_result"
    }
   ],
   "source": [
    "## Load Dataframe\n",
    "df = pd.read_csv(\"./DS Project/individual_case_data.csv\")\n",
    "df.head(10)"
   ]
  },
  {
   "cell_type": "code",
   "execution_count": 3,
   "id": "eaaf8d9e",
   "metadata": {},
   "outputs": [
    {
     "name": "stdout",
     "output_type": "stream",
     "text": [
      "Rows     :  500\n",
      "Columns  :  9\n",
      "\n",
      "Features : \n",
      " ['body_weight', 'wither_height', 'body_length', 'head_length', 'sex', 'ad_libitum', 'castration', 'nth_born', 'age']\n",
      "\n",
      "Missing values :   3\n",
      "\n",
      "Unique values :  \n",
      " body_weight      500\n",
      "wither_height    499\n",
      "body_length      499\n",
      "head_length      499\n",
      "sex                2\n",
      "ad_libitum         2\n",
      "castration         2\n",
      "nth_born           8\n",
      "age               13\n",
      "dtype: int64\n"
     ]
    }
   ],
   "source": [
    "print (\"Rows     : \" ,df.shape[0])\n",
    "print (\"Columns  : \" ,df.shape[1])\n",
    "print (\"\\nFeatures : \\n\" ,df.columns.tolist())\n",
    "print (\"\\nMissing values :  \", df.isnull().sum().values.sum())\n",
    "print (\"\\nUnique values :  \\n\",df.nunique())"
   ]
  },
  {
   "cell_type": "markdown",
   "id": "344408c1",
   "metadata": {},
   "source": [
    "Target Variable: Body Weight\n",
    "    \n",
    "features: 'wither_height', 'body_length', 'head_length', 'sex', 'ad_libitum', 'castration', 'nth_born', 'age'"
   ]
  },
  {
   "cell_type": "code",
   "execution_count": 4,
   "id": "98f59650",
   "metadata": {},
   "outputs": [
    {
     "data": {
      "text/plain": [
       "body_weight      float64\n",
       "wither_height    float64\n",
       "body_length      float64\n",
       "head_length      float64\n",
       "sex               object\n",
       "ad_libitum        object\n",
       "castration        object\n",
       "nth_born           int64\n",
       "age                int64\n",
       "dtype: object"
      ]
     },
     "execution_count": 4,
     "metadata": {},
     "output_type": "execute_result"
    }
   ],
   "source": [
    "### check data types\n",
    "df.dtypes"
   ]
  },
  {
   "cell_type": "code",
   "execution_count": 5,
   "id": "399c2704",
   "metadata": {},
   "outputs": [
    {
     "name": "stdout",
     "output_type": "stream",
     "text": [
      "Missing values per column:\n",
      "body_weight      0\n",
      "wither_height    1\n",
      "body_length      1\n",
      "head_length      1\n",
      "sex              0\n",
      "ad_libitum       0\n",
      "castration       0\n",
      "nth_born         0\n",
      "age              0\n",
      "dtype: int64\n"
     ]
    }
   ],
   "source": [
    "#Create a new function:\n",
    "def num_missing(x):\n",
    "  return sum(x.isnull())\n",
    "\n",
    "#Applying per column:\n",
    "print (\"Missing values per column:\")\n",
    "print (df.apply(num_missing, axis=0)) #axis=0 defines that function is to be applied on each column"
   ]
  },
  {
   "cell_type": "code",
   "execution_count": 6,
   "id": "dfec531f",
   "metadata": {},
   "outputs": [
    {
     "data": {
      "text/html": [
       "<div>\n",
       "<style scoped>\n",
       "    .dataframe tbody tr th:only-of-type {\n",
       "        vertical-align: middle;\n",
       "    }\n",
       "\n",
       "    .dataframe tbody tr th {\n",
       "        vertical-align: top;\n",
       "    }\n",
       "\n",
       "    .dataframe thead th {\n",
       "        text-align: right;\n",
       "    }\n",
       "</style>\n",
       "<table border=\"1\" class=\"dataframe\">\n",
       "  <thead>\n",
       "    <tr style=\"text-align: right;\">\n",
       "      <th></th>\n",
       "      <th>count</th>\n",
       "      <th>mean</th>\n",
       "      <th>std</th>\n",
       "      <th>min</th>\n",
       "      <th>25%</th>\n",
       "      <th>50%</th>\n",
       "      <th>75%</th>\n",
       "      <th>max</th>\n",
       "    </tr>\n",
       "  </thead>\n",
       "  <tbody>\n",
       "    <tr>\n",
       "      <th>body_weight</th>\n",
       "      <td>500.0</td>\n",
       "      <td>247.002337</td>\n",
       "      <td>7.789424</td>\n",
       "      <td>225.584867</td>\n",
       "      <td>241.819397</td>\n",
       "      <td>246.824593</td>\n",
       "      <td>252.406644</td>\n",
       "      <td>268.219763</td>\n",
       "    </tr>\n",
       "    <tr>\n",
       "      <th>wither_height</th>\n",
       "      <td>499.0</td>\n",
       "      <td>104.513237</td>\n",
       "      <td>6.865162</td>\n",
       "      <td>83.038249</td>\n",
       "      <td>100.018091</td>\n",
       "      <td>104.855299</td>\n",
       "      <td>108.914109</td>\n",
       "      <td>126.813921</td>\n",
       "    </tr>\n",
       "    <tr>\n",
       "      <th>body_length</th>\n",
       "      <td>499.0</td>\n",
       "      <td>98.301871</td>\n",
       "      <td>11.951743</td>\n",
       "      <td>67.042763</td>\n",
       "      <td>89.763935</td>\n",
       "      <td>98.462849</td>\n",
       "      <td>105.784272</td>\n",
       "      <td>130.533058</td>\n",
       "    </tr>\n",
       "    <tr>\n",
       "      <th>head_length</th>\n",
       "      <td>499.0</td>\n",
       "      <td>42.211896</td>\n",
       "      <td>4.396512</td>\n",
       "      <td>28.792356</td>\n",
       "      <td>39.267762</td>\n",
       "      <td>42.197896</td>\n",
       "      <td>44.811379</td>\n",
       "      <td>54.917098</td>\n",
       "    </tr>\n",
       "    <tr>\n",
       "      <th>nth_born</th>\n",
       "      <td>500.0</td>\n",
       "      <td>4.456000</td>\n",
       "      <td>2.343298</td>\n",
       "      <td>1.000000</td>\n",
       "      <td>2.000000</td>\n",
       "      <td>4.000000</td>\n",
       "      <td>6.000000</td>\n",
       "      <td>8.000000</td>\n",
       "    </tr>\n",
       "    <tr>\n",
       "      <th>age</th>\n",
       "      <td>500.0</td>\n",
       "      <td>30.304000</td>\n",
       "      <td>3.702838</td>\n",
       "      <td>24.000000</td>\n",
       "      <td>27.000000</td>\n",
       "      <td>30.000000</td>\n",
       "      <td>34.000000</td>\n",
       "      <td>36.000000</td>\n",
       "    </tr>\n",
       "  </tbody>\n",
       "</table>\n",
       "</div>"
      ],
      "text/plain": [
       "               count        mean        std         min         25%  \\\n",
       "body_weight    500.0  247.002337   7.789424  225.584867  241.819397   \n",
       "wither_height  499.0  104.513237   6.865162   83.038249  100.018091   \n",
       "body_length    499.0   98.301871  11.951743   67.042763   89.763935   \n",
       "head_length    499.0   42.211896   4.396512   28.792356   39.267762   \n",
       "nth_born       500.0    4.456000   2.343298    1.000000    2.000000   \n",
       "age            500.0   30.304000   3.702838   24.000000   27.000000   \n",
       "\n",
       "                      50%         75%         max  \n",
       "body_weight    246.824593  252.406644  268.219763  \n",
       "wither_height  104.855299  108.914109  126.813921  \n",
       "body_length     98.462849  105.784272  130.533058  \n",
       "head_length     42.197896   44.811379   54.917098  \n",
       "nth_born         4.000000    6.000000    8.000000  \n",
       "age             30.000000   34.000000   36.000000  "
      ]
     },
     "execution_count": 6,
     "metadata": {},
     "output_type": "execute_result"
    }
   ],
   "source": [
    "### First and Second Moment Business Decision ###\n",
    "\n",
    "# Measures of central tendancies for all columns\n",
    "\n",
    "df.describe().transpose()"
   ]
  },
  {
   "cell_type": "code",
   "execution_count": 7,
   "id": "008a5243",
   "metadata": {},
   "outputs": [
    {
     "data": {
      "text/html": [
       "<div>\n",
       "<style scoped>\n",
       "    .dataframe tbody tr th:only-of-type {\n",
       "        vertical-align: middle;\n",
       "    }\n",
       "\n",
       "    .dataframe tbody tr th {\n",
       "        vertical-align: top;\n",
       "    }\n",
       "\n",
       "    .dataframe thead th {\n",
       "        text-align: right;\n",
       "    }\n",
       "</style>\n",
       "<table border=\"1\" class=\"dataframe\">\n",
       "  <thead>\n",
       "    <tr style=\"text-align: right;\">\n",
       "      <th></th>\n",
       "      <th>sex</th>\n",
       "      <th>ad_libitum</th>\n",
       "      <th>castration</th>\n",
       "    </tr>\n",
       "  </thead>\n",
       "  <tbody>\n",
       "    <tr>\n",
       "      <th>count</th>\n",
       "      <td>500</td>\n",
       "      <td>500</td>\n",
       "      <td>500</td>\n",
       "    </tr>\n",
       "    <tr>\n",
       "      <th>unique</th>\n",
       "      <td>2</td>\n",
       "      <td>2</td>\n",
       "      <td>2</td>\n",
       "    </tr>\n",
       "    <tr>\n",
       "      <th>top</th>\n",
       "      <td>male</td>\n",
       "      <td>yes</td>\n",
       "      <td>no</td>\n",
       "    </tr>\n",
       "    <tr>\n",
       "      <th>freq</th>\n",
       "      <td>408</td>\n",
       "      <td>254</td>\n",
       "      <td>301</td>\n",
       "    </tr>\n",
       "  </tbody>\n",
       "</table>\n",
       "</div>"
      ],
      "text/plain": [
       "         sex ad_libitum castration\n",
       "count    500        500        500\n",
       "unique     2          2          2\n",
       "top     male        yes         no\n",
       "freq     408        254        301"
      ]
     },
     "execution_count": 7,
     "metadata": {},
     "output_type": "execute_result"
    }
   ],
   "source": [
    "# Measures of central tendancies for all columns - only focus for string columns\n",
    "df.describe(include = ['object'])"
   ]
  },
  {
   "cell_type": "code",
   "execution_count": 8,
   "id": "36beaa9d",
   "metadata": {},
   "outputs": [
    {
     "name": "stdout",
     "output_type": "stream",
     "text": [
      "body_weight (skew) =  0.028737567299114437\n",
      "body_weight (kurtosis) =  -0.12891619586284442\n",
      "\n",
      "wither_height (skew) =  0.0036783602732873566\n",
      "wither_height (kurtosis) =  0.1281419401671129\n",
      "\n",
      "body_length (skew) =  0.10153816132288977\n",
      "body_length (kurtosis) =  -0.30989190162209557\n",
      "\n",
      "head_length (skew) =  0.03357906750555691\n",
      "head_length (kurtosis) =  0.06241207193389986\n",
      "\n",
      "nth_born (skew) =  0.00785404038709982\n",
      "nth_born (kurtosis) =  -1.2683169615969165\n",
      "\n",
      "age (skew) =  -0.08844716609164407\n",
      "age (kurtosis) =  -1.2502739046570979\n"
     ]
    }
   ],
   "source": [
    "### Third and Fourth Moment Business Decision ###\n",
    "\n",
    "# Skew and Kurtosis - for numerical data type only\n",
    "\n",
    "\n",
    "stats.mode(df.body_weight)\n",
    "print('body_weight (skew) = ', df.body_weight.skew())\n",
    "print('body_weight (kurtosis) = ', df.body_weight.kurt())\n",
    "print('')\n",
    "stats.mode(df.wither_height)\n",
    "print('wither_height (skew) = ', df.wither_height.skew())\n",
    "print('wither_height (kurtosis) = ', df.wither_height.kurt())\n",
    "print('')\n",
    "stats.mode(df.body_length)\n",
    "print('body_length (skew) = ', df.body_length.skew())\n",
    "print('body_length (kurtosis) = ', df.body_length.kurt())\n",
    "print('')\n",
    "stats.mode(df.head_length)\n",
    "print('head_length (skew) = ', df.head_length.skew())\n",
    "print('head_length (kurtosis) = ', df.head_length.kurt())\n",
    "print('')\n",
    "stats.mode(df.nth_born)\n",
    "print('nth_born (skew) = ', df.nth_born.skew())\n",
    "print('nth_born (kurtosis) = ', df.nth_born.kurt())\n",
    "print('')\n",
    "stats.mode(df.age)\n",
    "print('age (skew) = ', df.age.skew())\n",
    "print('age (kurtosis) = ', df.age.kurt())\n"
   ]
  },
  {
   "cell_type": "markdown",
   "id": "1d12af88",
   "metadata": {},
   "source": [
    "Based on the low skew values of each column, the distribution of the data is close to normal and close to symmetrical.\n",
    "\n",
    "All the columns provide kurtosis values below 3 , then this indicates a low amount of outlier values or called as playtokurtic."
   ]
  },
  {
   "cell_type": "markdown",
   "id": "786e943a",
   "metadata": {},
   "source": [
    "Data Visualisation"
   ]
  },
  {
   "cell_type": "code",
   "execution_count": 9,
   "id": "8f187aa3",
   "metadata": {},
   "outputs": [
    {
     "data": {
      "image/png": "[encoded data removed]",
      "text/plain": [
       "<Figure size 1440x1440 with 6 Axes>"
      ]
     },
     "metadata": {
      "needs_background": "light"
     },
     "output_type": "display_data"
    }
   ],
   "source": [
    "### Histograms ###\n",
    "\n",
    "fig, ax = plt.subplots(nrows=2, ncols=3, figsize=(20, 20))\n",
    "df.body_weight.hist(bins='auto', edgecolor='black', ax=ax[0, 0], )\n",
    "ax[0,0].set_xlabel('body_weight')\n",
    "ax[0,0].set_ylabel('Frequency')\n",
    "df.wither_height.hist(bins='auto', edgecolor='black', ax=ax[0, 1])\n",
    "ax[0,1].set_xlabel('wither_height')\n",
    "ax[0,1].set_ylabel('Frequency')\n",
    "df.body_length.hist(bins='auto', edgecolor='black', ax=ax[0, 2])\n",
    "ax[0,2].set_xlabel('body_length')\n",
    "ax[0,2].set_ylabel('Frequency')\n",
    "df.head_length.hist(bins='auto', edgecolor='black', ax=ax[1,0])\n",
    "ax[1,0].set_xlabel('head_length')\n",
    "ax[1,0].set_ylabel('Frequency')\n",
    "df.nth_born.hist(bins='auto', edgecolor='black', ax=ax[1,1])\n",
    "ax[1,1].set_xlabel('nth_born')\n",
    "ax[1,1].set_ylabel('Frequency')\n",
    "df.age.hist(bins='auto', edgecolor='black', ax=ax[1,2])\n",
    "ax[1,2].set_xlabel('age')\n",
    "ax[1,2].set_ylabel('Frequency')\n",
    "plt.tight_layout()\n",
    "plt.show()"
   ]
  },
  {
   "cell_type": "markdown",
   "id": "58700f17",
   "metadata": {},
   "source": [
    "Most numerical columns is normally distributed except for nth born is uniform distribution with missing value and age is uniform distributed."
   ]
  },
  {
   "cell_type": "code",
   "execution_count": 10,
   "id": "8a191702",
   "metadata": {},
   "outputs": [
    {
     "data": {
      "text/plain": [
       "Text(0, 0.5, 'Frequency')"
      ]
     },
     "execution_count": 10,
     "metadata": {},
     "output_type": "execute_result"
    },
    {
     "data": {
      "image/png": "[encoded data removed]",
      "text/plain": [
       "<Figure size 360x216 with 1 Axes>"
      ]
     },
     "metadata": {
      "needs_background": "light"
     },
     "output_type": "display_data"
    }
   ],
   "source": [
    "## Bar Graph\n",
    "# sex\tad_libitum\tcastration\n",
    "ax = df['sex'].value_counts().plot(kind='bar', figsize=(5,3))\n",
    "ax.set_xlabel(\"sex\")\n",
    "ax.set_ylabel(\"Frequency\")"
   ]
  },
  {
   "cell_type": "code",
   "execution_count": 11,
   "id": "256f6b2d",
   "metadata": {},
   "outputs": [
    {
     "data": {
      "text/plain": [
       "Text(0, 0.5, 'Frequency')"
      ]
     },
     "execution_count": 11,
     "metadata": {},
     "output_type": "execute_result"
    },
    {
     "data": {
      "image/png": "[encoded data removed]",
      "text/plain": [
       "<Figure size 360x216 with 1 Axes>"
      ]
     },
     "metadata": {
      "needs_background": "light"
     },
     "output_type": "display_data"
    }
   ],
   "source": [
    "ax1 = df['ad_libitum'].value_counts().plot(kind='bar', figsize=(5,3))\n",
    "ax1.set_xlabel(\"ad_libitum\")\n",
    "ax1.set_ylabel(\"Frequency\")"
   ]
  },
  {
   "cell_type": "code",
   "execution_count": 12,
   "id": "15a3f213",
   "metadata": {},
   "outputs": [
    {
     "data": {
      "text/plain": [
       "yes    254\n",
       "no     246\n",
       "Name: ad_libitum, dtype: int64"
      ]
     },
     "execution_count": 12,
     "metadata": {},
     "output_type": "execute_result"
    }
   ],
   "source": [
    "df['ad_libitum'].value_counts()"
   ]
  },
  {
   "cell_type": "code",
   "execution_count": 13,
   "id": "bdf4ed46",
   "metadata": {},
   "outputs": [
    {
     "data": {
      "text/plain": [
       "Text(0, 0.5, 'Frequency')"
      ]
     },
     "execution_count": 13,
     "metadata": {},
     "output_type": "execute_result"
    },
    {
     "data": {
      "image/png": "[encoded data removed]",
      "text/plain": [
       "<Figure size 360x216 with 1 Axes>"
      ]
     },
     "metadata": {
      "needs_background": "light"
     },
     "output_type": "display_data"
    }
   ],
   "source": [
    "ax1 = df['castration'].value_counts().plot(kind='bar', figsize=(5,3))\n",
    "ax1.set_xlabel(\"castration\")\n",
    "ax1.set_ylabel(\"Frequency\")"
   ]
  },
  {
   "cell_type": "code",
   "execution_count": 14,
   "id": "1fef8acc",
   "metadata": {},
   "outputs": [
    {
     "data": {
      "text/plain": [
       "no     301\n",
       "yes    199\n",
       "Name: castration, dtype: int64"
      ]
     },
     "execution_count": 14,
     "metadata": {},
     "output_type": "execute_result"
    }
   ],
   "source": [
    "df['castration'].value_counts()"
   ]
  },
  {
   "cell_type": "markdown",
   "id": "4242d4fa",
   "metadata": {},
   "source": [
    "Data Cleansing"
   ]
  },
  {
   "cell_type": "markdown",
   "id": "863ce7ed",
   "metadata": {},
   "source": [
    "For this section it focus on cleanse the dataset. It's include identify and impute missing value, identify outliers, remove any duplicates row, correlation between dependant and independant variables which also include identify and remove any high correlated value"
   ]
  },
  {
   "cell_type": "code",
   "execution_count": 15,
   "id": "ba1fa0d8",
   "metadata": {},
   "outputs": [
    {
     "data": {
      "text/html": [
       "<div>\n",
       "<style scoped>\n",
       "    .dataframe tbody tr th:only-of-type {\n",
       "        vertical-align: middle;\n",
       "    }\n",
       "\n",
       "    .dataframe tbody tr th {\n",
       "        vertical-align: top;\n",
       "    }\n",
       "\n",
       "    .dataframe thead th {\n",
       "        text-align: right;\n",
       "    }\n",
       "</style>\n",
       "<table border=\"1\" class=\"dataframe\">\n",
       "  <thead>\n",
       "    <tr style=\"text-align: right;\">\n",
       "      <th></th>\n",
       "      <th>body_weight</th>\n",
       "      <th>wither_height</th>\n",
       "      <th>body_length</th>\n",
       "      <th>head_length</th>\n",
       "      <th>nth_born</th>\n",
       "      <th>age</th>\n",
       "    </tr>\n",
       "  </thead>\n",
       "  <tbody>\n",
       "    <tr>\n",
       "      <th>0</th>\n",
       "      <td>247.882550</td>\n",
       "      <td>99.609679</td>\n",
       "      <td>96.332741</td>\n",
       "      <td>42.947545</td>\n",
       "      <td>6</td>\n",
       "      <td>29</td>\n",
       "    </tr>\n",
       "    <tr>\n",
       "      <th>1</th>\n",
       "      <td>248.306667</td>\n",
       "      <td>100.284966</td>\n",
       "      <td>97.998042</td>\n",
       "      <td>43.927223</td>\n",
       "      <td>5</td>\n",
       "      <td>35</td>\n",
       "    </tr>\n",
       "    <tr>\n",
       "      <th>2</th>\n",
       "      <td>247.077742</td>\n",
       "      <td>99.177838</td>\n",
       "      <td>103.598485</td>\n",
       "      <td>42.940533</td>\n",
       "      <td>7</td>\n",
       "      <td>34</td>\n",
       "    </tr>\n",
       "    <tr>\n",
       "      <th>3</th>\n",
       "      <td>268.219763</td>\n",
       "      <td>114.922591</td>\n",
       "      <td>115.669466</td>\n",
       "      <td>48.480783</td>\n",
       "      <td>2</td>\n",
       "      <td>29</td>\n",
       "    </tr>\n",
       "    <tr>\n",
       "      <th>4</th>\n",
       "      <td>266.007489</td>\n",
       "      <td>114.763730</td>\n",
       "      <td>130.533058</td>\n",
       "      <td>50.311455</td>\n",
       "      <td>5</td>\n",
       "      <td>30</td>\n",
       "    </tr>\n",
       "  </tbody>\n",
       "</table>\n",
       "</div>"
      ],
      "text/plain": [
       "   body_weight  wither_height  body_length  head_length  nth_born  age\n",
       "0   247.882550      99.609679    96.332741    42.947545         6   29\n",
       "1   248.306667     100.284966    97.998042    43.927223         5   35\n",
       "2   247.077742      99.177838   103.598485    42.940533         7   34\n",
       "3   268.219763     114.922591   115.669466    48.480783         2   29\n",
       "4   266.007489     114.763730   130.533058    50.311455         5   30"
      ]
     },
     "execution_count": 15,
     "metadata": {},
     "output_type": "execute_result"
    }
   ],
   "source": [
    "#1. Identify and Impute Missing value\n",
    "# Based on above code there are been identify 3 columns have missing value - wither_height, body_length, head_length\n",
    "# Next step will be impute missing value\n",
    "\n",
    "#numerical data (except those in 1,0 or with 3+...)\n",
    "numericalData = df[['body_weight','wither_height', 'body_length', 'head_length', 'nth_born', 'age']]\n",
    "\n",
    "#print\n",
    "numericalData.head()"
   ]
  },
  {
   "cell_type": "code",
   "execution_count": 16,
   "id": "d543b251",
   "metadata": {},
   "outputs": [],
   "source": [
    "#fill the missing values with mean\n",
    "for x in numericalData.iloc[:,1:].columns:\n",
    "    numericalData[x] = numericalData[x].fillna(numericalData[x].mean())"
   ]
  },
  {
   "cell_type": "code",
   "execution_count": 17,
   "id": "e75ead03",
   "metadata": {},
   "outputs": [
    {
     "data": {
      "text/plain": [
       "body_weight      False\n",
       "wither_height    False\n",
       "body_length      False\n",
       "head_length      False\n",
       "nth_born         False\n",
       "age              False\n",
       "dtype: bool"
      ]
     },
     "execution_count": 17,
     "metadata": {},
     "output_type": "execute_result"
    }
   ],
   "source": [
    "#check the null values in nuemricalData for handling purpose\n",
    "numericalData.isnull().any()"
   ]
  },
  {
   "cell_type": "code",
   "execution_count": 18,
   "id": "76e2e2a8",
   "metadata": {},
   "outputs": [
    {
     "data": {
      "image/png": "[encoded data removed]",
      "text/plain": [
       "<Figure size 1440x720 with 8 Axes>"
      ]
     },
     "metadata": {
      "needs_background": "light"
     },
     "output_type": "display_data"
    }
   ],
   "source": [
    "\n",
    "### Box plots ###\n",
    "\n",
    "fig, ax = plt.subplots(nrows=2, ncols=4, figsize=(20, 10))\n",
    "\n",
    "ax[0,0].boxplot(numericalData[\"wither_height\"], 1, 'gD')\n",
    "ax[0,0].set_title('wither_height')\n",
    "\n",
    "ax[0,1].boxplot(numericalData.body_length, 1, 'gD')\n",
    "ax[0,1].set_title('body_length')\n",
    "\n",
    "ax[0,2].boxplot(numericalData.head_length , 1, 'gD')\n",
    "ax[0,2].set_title('head_length')\n",
    "\n",
    "ax[0,3].boxplot(numericalData.nth_born, 1, 'gD')\n",
    "ax[0,3].set_title('nth_born')\n",
    "\n",
    "ax[1,0].boxplot(numericalData.age, 1, 'gD')\n",
    "ax[1,0].set_title('age')\n",
    "plt.show()"
   ]
  },
  {
   "cell_type": "markdown",
   "id": "75e9d4d9",
   "metadata": {},
   "source": [
    "Based on above boxplot it have outliers for columns wither_height, body_length,head_length, nth_born, and age"
   ]
  },
  {
   "cell_type": "code",
   "execution_count": 19,
   "id": "faa2c040",
   "metadata": {},
   "outputs": [
    {
     "data": {
      "text/html": [
       "<div>\n",
       "<style scoped>\n",
       "    .dataframe tbody tr th:only-of-type {\n",
       "        vertical-align: middle;\n",
       "    }\n",
       "\n",
       "    .dataframe tbody tr th {\n",
       "        vertical-align: top;\n",
       "    }\n",
       "\n",
       "    .dataframe thead th {\n",
       "        text-align: right;\n",
       "    }\n",
       "</style>\n",
       "<table border=\"1\" class=\"dataframe\">\n",
       "  <thead>\n",
       "    <tr style=\"text-align: right;\">\n",
       "      <th></th>\n",
       "      <th>sex</th>\n",
       "      <th>ad_libitum</th>\n",
       "      <th>castration</th>\n",
       "    </tr>\n",
       "  </thead>\n",
       "  <tbody>\n",
       "    <tr>\n",
       "      <th>0</th>\n",
       "      <td>male</td>\n",
       "      <td>no</td>\n",
       "      <td>yes</td>\n",
       "    </tr>\n",
       "    <tr>\n",
       "      <th>1</th>\n",
       "      <td>male</td>\n",
       "      <td>yes</td>\n",
       "      <td>yes</td>\n",
       "    </tr>\n",
       "    <tr>\n",
       "      <th>2</th>\n",
       "      <td>male</td>\n",
       "      <td>no</td>\n",
       "      <td>no</td>\n",
       "    </tr>\n",
       "    <tr>\n",
       "      <th>3</th>\n",
       "      <td>male</td>\n",
       "      <td>yes</td>\n",
       "      <td>no</td>\n",
       "    </tr>\n",
       "    <tr>\n",
       "      <th>4</th>\n",
       "      <td>male</td>\n",
       "      <td>yes</td>\n",
       "      <td>yes</td>\n",
       "    </tr>\n",
       "  </tbody>\n",
       "</table>\n",
       "</div>"
      ],
      "text/plain": [
       "    sex ad_libitum castration\n",
       "0  male         no        yes\n",
       "1  male        yes        yes\n",
       "2  male         no         no\n",
       "3  male        yes         no\n",
       "4  male        yes        yes"
      ]
     },
     "execution_count": 19,
     "metadata": {},
     "output_type": "execute_result"
    }
   ],
   "source": [
    "#categorical data (those that not in numericalData variable)\n",
    "categoricalData = df[['sex','ad_libitum','castration']]\n",
    "\n",
    "#print\n",
    "categoricalData.head()"
   ]
  },
  {
   "cell_type": "code",
   "execution_count": 20,
   "id": "f2602e18",
   "metadata": {},
   "outputs": [
    {
     "data": {
      "text/html": [
       "<div>\n",
       "<style scoped>\n",
       "    .dataframe tbody tr th:only-of-type {\n",
       "        vertical-align: middle;\n",
       "    }\n",
       "\n",
       "    .dataframe tbody tr th {\n",
       "        vertical-align: top;\n",
       "    }\n",
       "\n",
       "    .dataframe thead th {\n",
       "        text-align: right;\n",
       "    }\n",
       "</style>\n",
       "<table border=\"1\" class=\"dataframe\">\n",
       "  <thead>\n",
       "    <tr style=\"text-align: right;\">\n",
       "      <th></th>\n",
       "      <th>sex</th>\n",
       "      <th>ad_libitum</th>\n",
       "      <th>castration</th>\n",
       "    </tr>\n",
       "  </thead>\n",
       "  <tbody>\n",
       "    <tr>\n",
       "      <th>0</th>\n",
       "      <td>1</td>\n",
       "      <td>0</td>\n",
       "      <td>1</td>\n",
       "    </tr>\n",
       "    <tr>\n",
       "      <th>1</th>\n",
       "      <td>1</td>\n",
       "      <td>1</td>\n",
       "      <td>1</td>\n",
       "    </tr>\n",
       "    <tr>\n",
       "      <th>2</th>\n",
       "      <td>1</td>\n",
       "      <td>0</td>\n",
       "      <td>0</td>\n",
       "    </tr>\n",
       "    <tr>\n",
       "      <th>3</th>\n",
       "      <td>1</td>\n",
       "      <td>1</td>\n",
       "      <td>0</td>\n",
       "    </tr>\n",
       "    <tr>\n",
       "      <th>4</th>\n",
       "      <td>1</td>\n",
       "      <td>1</td>\n",
       "      <td>1</td>\n",
       "    </tr>\n",
       "  </tbody>\n",
       "</table>\n",
       "</div>"
      ],
      "text/plain": [
       "   sex  ad_libitum  castration\n",
       "0    1           0           1\n",
       "1    1           1           1\n",
       "2    1           0           0\n",
       "3    1           1           0\n",
       "4    1           1           1"
      ]
     },
     "execution_count": 20,
     "metadata": {},
     "output_type": "execute_result"
    }
   ],
   "source": [
    "#change the string into numeric \n",
    "sexNum = pd.Categorical(categoricalData[\"sex\"]).codes \n",
    "ad_libitumNum = pd.Categorical(categoricalData[\"ad_libitum\"]).codes\n",
    "castrationNum = pd.Categorical(categoricalData[\"castration\"]).codes\n",
    "\n",
    "#add the col into the table\n",
    "categoricalData['sex'] = sexNum \n",
    "categoricalData[\"ad_libitum\"] = ad_libitumNum \n",
    "categoricalData[\"castration\"] = castrationNum\n",
    "\n",
    "#print to see is there any columns with null\n",
    "categoricalData.head()"
   ]
  },
  {
   "cell_type": "code",
   "execution_count": 21,
   "id": "6834333e",
   "metadata": {},
   "outputs": [
    {
     "data": {
      "text/html": [
       "<div>\n",
       "<style scoped>\n",
       "    .dataframe tbody tr th:only-of-type {\n",
       "        vertical-align: middle;\n",
       "    }\n",
       "\n",
       "    .dataframe tbody tr th {\n",
       "        vertical-align: top;\n",
       "    }\n",
       "\n",
       "    .dataframe thead th {\n",
       "        text-align: right;\n",
       "    }\n",
       "</style>\n",
       "<table border=\"1\" class=\"dataframe\">\n",
       "  <thead>\n",
       "    <tr style=\"text-align: right;\">\n",
       "      <th></th>\n",
       "      <th>sex</th>\n",
       "      <th>ad_libitum</th>\n",
       "      <th>castration</th>\n",
       "      <th>body_weight</th>\n",
       "      <th>wither_height</th>\n",
       "      <th>body_length</th>\n",
       "      <th>head_length</th>\n",
       "      <th>nth_born</th>\n",
       "      <th>age</th>\n",
       "    </tr>\n",
       "  </thead>\n",
       "  <tbody>\n",
       "    <tr>\n",
       "      <th>0</th>\n",
       "      <td>1</td>\n",
       "      <td>0</td>\n",
       "      <td>1</td>\n",
       "      <td>247.882550</td>\n",
       "      <td>99.609679</td>\n",
       "      <td>96.332741</td>\n",
       "      <td>42.947545</td>\n",
       "      <td>6</td>\n",
       "      <td>29</td>\n",
       "    </tr>\n",
       "    <tr>\n",
       "      <th>1</th>\n",
       "      <td>1</td>\n",
       "      <td>1</td>\n",
       "      <td>1</td>\n",
       "      <td>248.306667</td>\n",
       "      <td>100.284966</td>\n",
       "      <td>97.998042</td>\n",
       "      <td>43.927223</td>\n",
       "      <td>5</td>\n",
       "      <td>35</td>\n",
       "    </tr>\n",
       "    <tr>\n",
       "      <th>2</th>\n",
       "      <td>1</td>\n",
       "      <td>0</td>\n",
       "      <td>0</td>\n",
       "      <td>247.077742</td>\n",
       "      <td>99.177838</td>\n",
       "      <td>103.598485</td>\n",
       "      <td>42.940533</td>\n",
       "      <td>7</td>\n",
       "      <td>34</td>\n",
       "    </tr>\n",
       "    <tr>\n",
       "      <th>3</th>\n",
       "      <td>1</td>\n",
       "      <td>1</td>\n",
       "      <td>0</td>\n",
       "      <td>268.219763</td>\n",
       "      <td>114.922591</td>\n",
       "      <td>115.669466</td>\n",
       "      <td>48.480783</td>\n",
       "      <td>2</td>\n",
       "      <td>29</td>\n",
       "    </tr>\n",
       "    <tr>\n",
       "      <th>4</th>\n",
       "      <td>1</td>\n",
       "      <td>1</td>\n",
       "      <td>1</td>\n",
       "      <td>266.007489</td>\n",
       "      <td>114.763730</td>\n",
       "      <td>130.533058</td>\n",
       "      <td>50.311455</td>\n",
       "      <td>5</td>\n",
       "      <td>30</td>\n",
       "    </tr>\n",
       "  </tbody>\n",
       "</table>\n",
       "</div>"
      ],
      "text/plain": [
       "   sex  ad_libitum  castration  body_weight  wither_height  body_length  \\\n",
       "0    1           0           1   247.882550      99.609679    96.332741   \n",
       "1    1           1           1   248.306667     100.284966    97.998042   \n",
       "2    1           0           0   247.077742      99.177838   103.598485   \n",
       "3    1           1           0   268.219763     114.922591   115.669466   \n",
       "4    1           1           1   266.007489     114.763730   130.533058   \n",
       "\n",
       "   head_length  nth_born  age  \n",
       "0    42.947545         6   29  \n",
       "1    43.927223         5   35  \n",
       "2    42.940533         7   34  \n",
       "3    48.480783         2   29  \n",
       "4    50.311455         5   30  "
      ]
     },
     "execution_count": 21,
     "metadata": {},
     "output_type": "execute_result"
    }
   ],
   "source": [
    "#concatenate the categorical data and numerical data together as nwData\n",
    "nwData = pd.concat([categoricalData,numericalData],axis=1)\n",
    "nwData.head()"
   ]
  },
  {
   "cell_type": "code",
   "execution_count": 68,
   "id": "0e7a44db",
   "metadata": {},
   "outputs": [
    {
     "data": {
      "image/png": "[encoded data removed]",
      "text/plain": [
       "<Figure size 720x1440 with 8 Axes>"
      ]
     },
     "metadata": {
      "needs_background": "light"
     },
     "output_type": "display_data"
    }
   ],
   "source": [
    "### Scatter plots ###\n",
    "\n",
    "sex = nwData['sex']\n",
    "ad_libitum = nwData['ad_libitum']\n",
    "castration = nwData['castration']\n",
    "body_weight = nwData['body_weight']\n",
    "wither_height = nwData['wither_height']\n",
    "body_length = nwData['body_length']\n",
    "head_length = nwData['head_length']\n",
    "nth_born = nwData['nth_born']\n",
    "age = nwData['age']\n",
    "\n",
    "\n",
    "fig, ax = plt.subplots(nrows=4, ncols=2, figsize=(10, 20))\n",
    "\n",
    "ax[0,0].scatter(sex, body_weight, c='b', edgecolors='black')\n",
    "ax[0,0].set_title('sex vs. body_weight')\n",
    "\n",
    "ax[0,1].scatter(ad_libitum, body_weight, c='g', edgecolors='black')\n",
    "ax[0,1].set_title('ad_libitum vs. body_weight')\n",
    "\n",
    "ax[1,0].scatter(castration, body_weight, c='b', edgecolors='black')\n",
    "ax[1,0].set_title('castration vs. body_weight')\n",
    "ax[1,1].scatter(wither_height, body_weight, c='g', edgecolors='black')\n",
    "ax[1,1].set_title('wither_height vs. body_weight')\n",
    "\n",
    "ax[2,0].scatter(body_length, body_weight, c='b', edgecolors='black')\n",
    "ax[2,0].set_title('body_length vs. body_weight')\n",
    "ax[2,1].scatter(head_length, body_weight, c='g', edgecolors='black')\n",
    "ax[2,1].set_title('head_length vs. body_weight')\n",
    "\n",
    "ax[3,0].scatter(nth_born, body_weight, c='b', edgecolors='black')\n",
    "ax[3,0].set_title('nth_born vs. body_weight')\n",
    "ax[3,1].scatter(age, body_weight, c='g', edgecolors='black')\n",
    "ax[3,1].set_title('age vs. body_weight')\n",
    "\n",
    "plt.show()\n",
    "\n"
   ]
  },
  {
   "cell_type": "markdown",
   "id": "f6e31df7",
   "metadata": {},
   "source": [
    "Based on the scatter plot, for continous data type it's shows correlation against dependant variable"
   ]
  },
  {
   "cell_type": "code",
   "execution_count": 25,
   "id": "2c982e7c",
   "metadata": {},
   "outputs": [
    {
     "data": {
      "image/png": "[encoded data removed]",
      "text/plain": [
       "<Figure size 432x288 with 2 Axes>"
      ]
     },
     "metadata": {
      "needs_background": "light"
     },
     "output_type": "display_data"
    }
   ],
   "source": [
    "# Plotting a heatmap to calculate correlation between the inputs and the outputs\n",
    "\n",
    "nwData_hm = sns.heatmap(nwData.corr(), annot = True)\n",
    "nwData_hm.set(title = 'Correlation matrix')\n",
    "sns.set(rc={\"figure.figsize\":(15,20)})\n",
    "plt.show()"
   ]
  },
  {
   "cell_type": "markdown",
   "id": "40c57f80",
   "metadata": {},
   "source": [
    "# Model Building"
   ]
  },
  {
   "cell_type": "markdown",
   "id": "a8deb6cd",
   "metadata": {},
   "source": [
    "Spliting data\n",
    "\n",
    "The data set will be split into training and testing sets. The training set will be used to train the model and testing set will be used to test the model. The data spliting is based on percentage. The training set is 70% of the data set ewhile testing set is 30% of the data set"
   ]
  },
  {
   "cell_type": "code",
   "execution_count": 28,
   "id": "d4890cb0",
   "metadata": {},
   "outputs": [],
   "source": [
    "X = nwData.drop(['body_weight'],axis=1)\n",
    "y = nwData.loc[:,['body_weight']]\n",
    "X_train,X_test,y_train,y_test = train_test_split(X,y,test_size=0.30,random_state=0)"
   ]
  },
  {
   "cell_type": "code",
   "execution_count": 30,
   "id": "578fe30a",
   "metadata": {},
   "outputs": [
    {
     "data": {
      "text/html": [
       "<div>\n",
       "<style scoped>\n",
       "    .dataframe tbody tr th:only-of-type {\n",
       "        vertical-align: middle;\n",
       "    }\n",
       "\n",
       "    .dataframe tbody tr th {\n",
       "        vertical-align: top;\n",
       "    }\n",
       "\n",
       "    .dataframe thead th {\n",
       "        text-align: right;\n",
       "    }\n",
       "</style>\n",
       "<table border=\"1\" class=\"dataframe\">\n",
       "  <thead>\n",
       "    <tr style=\"text-align: right;\">\n",
       "      <th></th>\n",
       "      <th>sex</th>\n",
       "      <th>ad_libitum</th>\n",
       "      <th>castration</th>\n",
       "      <th>wither_height</th>\n",
       "      <th>body_length</th>\n",
       "      <th>head_length</th>\n",
       "      <th>nth_born</th>\n",
       "      <th>age</th>\n",
       "    </tr>\n",
       "  </thead>\n",
       "  <tbody>\n",
       "    <tr>\n",
       "      <th>0</th>\n",
       "      <td>0.468521</td>\n",
       "      <td>1.005731</td>\n",
       "      <td>-0.782881</td>\n",
       "      <td>1.327784</td>\n",
       "      <td>0.882888</td>\n",
       "      <td>-0.016800</td>\n",
       "      <td>-0.612043</td>\n",
       "      <td>0.492089</td>\n",
       "    </tr>\n",
       "    <tr>\n",
       "      <th>1</th>\n",
       "      <td>0.468521</td>\n",
       "      <td>1.005731</td>\n",
       "      <td>-0.782881</td>\n",
       "      <td>-0.410504</td>\n",
       "      <td>-1.513732</td>\n",
       "      <td>-0.465451</td>\n",
       "      <td>0.232987</td>\n",
       "      <td>-1.415536</td>\n",
       "    </tr>\n",
       "    <tr>\n",
       "      <th>2</th>\n",
       "      <td>0.468521</td>\n",
       "      <td>-0.994302</td>\n",
       "      <td>1.277333</td>\n",
       "      <td>1.274661</td>\n",
       "      <td>1.234936</td>\n",
       "      <td>1.240769</td>\n",
       "      <td>1.500533</td>\n",
       "      <td>1.582161</td>\n",
       "    </tr>\n",
       "    <tr>\n",
       "      <th>3</th>\n",
       "      <td>-2.134375</td>\n",
       "      <td>1.005731</td>\n",
       "      <td>-0.782881</td>\n",
       "      <td>-1.269137</td>\n",
       "      <td>-0.912109</td>\n",
       "      <td>-0.451361</td>\n",
       "      <td>-0.189528</td>\n",
       "      <td>-1.143018</td>\n",
       "    </tr>\n",
       "    <tr>\n",
       "      <th>4</th>\n",
       "      <td>0.468521</td>\n",
       "      <td>1.005731</td>\n",
       "      <td>-0.782881</td>\n",
       "      <td>0.361958</td>\n",
       "      <td>1.737036</td>\n",
       "      <td>0.849607</td>\n",
       "      <td>1.078017</td>\n",
       "      <td>0.764607</td>\n",
       "    </tr>\n",
       "  </tbody>\n",
       "</table>\n",
       "</div>"
      ],
      "text/plain": [
       "        sex  ad_libitum  castration  wither_height  body_length  head_length  \\\n",
       "0  0.468521    1.005731   -0.782881       1.327784     0.882888    -0.016800   \n",
       "1  0.468521    1.005731   -0.782881      -0.410504    -1.513732    -0.465451   \n",
       "2  0.468521   -0.994302    1.277333       1.274661     1.234936     1.240769   \n",
       "3 -2.134375    1.005731   -0.782881      -1.269137    -0.912109    -0.451361   \n",
       "4  0.468521    1.005731   -0.782881       0.361958     1.737036     0.849607   \n",
       "\n",
       "   nth_born       age  \n",
       "0 -0.612043  0.492089  \n",
       "1  0.232987 -1.415536  \n",
       "2  1.500533  1.582161  \n",
       "3 -0.189528 -1.143018  \n",
       "4  1.078017  0.764607  "
      ]
     },
     "execution_count": 30,
     "metadata": {},
     "output_type": "execute_result"
    }
   ],
   "source": [
    "#Scaling the features\n",
    "from sklearn.preprocessing import StandardScaler\n",
    "scaler = StandardScaler().fit(X_train)\n",
    "x_train_scaled = pd.DataFrame(scaler.transform(X_train),\n",
    "                              columns = X_train.columns)\n",
    "x_train_scaled.head()"
   ]
  },
  {
   "cell_type": "code",
   "execution_count": 33,
   "id": "be4cb5c5",
   "metadata": {},
   "outputs": [],
   "source": [
    "#We will save the model performance metrics in a DataFrame\n",
    "from sklearn.metrics import mean_squared_error, r2_score\n",
    "from sklearn.model_selection import KFold, cross_val_score\n",
    "import numpy as np\n",
    "Model = []\n",
    "RMSE = []\n",
    "R_sq = []\n",
    "cv = KFold(5, random_state = 1, shuffle=True)\n",
    "\n",
    "#Creating a Function to append the cross validation scores of the algorithms\n",
    "def input_scores(name, model, X, y):\n",
    "    Model.append(name)\n",
    "    RMSE.append(np.sqrt((-1) * cross_val_score(model, X, y, cv=cv, \n",
    "                                               scoring='neg_mean_squared_error').mean()))\n",
    "    R_sq.append(cross_val_score(model, X, y, cv=cv, scoring='r2').mean())"
   ]
  },
  {
   "cell_type": "code",
   "execution_count": 34,
   "id": "c99abf68",
   "metadata": {},
   "outputs": [],
   "source": [
    "from sklearn.linear_model import LinearRegression, Ridge, Lasso\n",
    "from sklearn.neighbors import KNeighborsRegressor\n",
    "from sklearn.tree import DecisionTreeRegressor\n",
    "from sklearn.ensemble import (RandomForestRegressor, GradientBoostingRegressor, \n",
    "                              AdaBoostRegressor)\n",
    "\n",
    "names = ['Linear Regression', 'Ridge Regression', 'Lasso Regression',\n",
    "         'K Neighbors Regressor', 'Decision Tree Regressor', \n",
    "         'Random Forest Regressor', 'Gradient Boosting Regressor',\n",
    "         'Adaboost Regressor']\n",
    "models = [LinearRegression(), Ridge(), Lasso(),\n",
    "          KNeighborsRegressor(), DecisionTreeRegressor(),\n",
    "          RandomForestRegressor(), GradientBoostingRegressor(), \n",
    "          AdaBoostRegressor()]\n",
    "\n",
    "#Running all algorithms\n",
    "for name, model in zip(names, models):\n",
    "    input_scores(name, model, x_train_scaled, y_train)"
   ]
  },
  {
   "cell_type": "code",
   "execution_count": 35,
   "id": "bbff2852",
   "metadata": {},
   "outputs": [
    {
     "name": "stdout",
     "output_type": "stream",
     "text": [
      "FOLLOWING ARE THE TRAINING SCORES: \n"
     ]
    },
    {
     "data": {
      "text/html": [
       "<div>\n",
       "<style scoped>\n",
       "    .dataframe tbody tr th:only-of-type {\n",
       "        vertical-align: middle;\n",
       "    }\n",
       "\n",
       "    .dataframe tbody tr th {\n",
       "        vertical-align: top;\n",
       "    }\n",
       "\n",
       "    .dataframe thead th {\n",
       "        text-align: right;\n",
       "    }\n",
       "</style>\n",
       "<table border=\"1\" class=\"dataframe\">\n",
       "  <thead>\n",
       "    <tr style=\"text-align: right;\">\n",
       "      <th></th>\n",
       "      <th>Model</th>\n",
       "      <th>RMSE</th>\n",
       "      <th>R Squared</th>\n",
       "    </tr>\n",
       "  </thead>\n",
       "  <tbody>\n",
       "    <tr>\n",
       "      <th>0</th>\n",
       "      <td>Linear Regression</td>\n",
       "      <td>3.396436</td>\n",
       "      <td>0.801452</td>\n",
       "    </tr>\n",
       "    <tr>\n",
       "      <th>1</th>\n",
       "      <td>Ridge Regression</td>\n",
       "      <td>3.394410</td>\n",
       "      <td>0.801677</td>\n",
       "    </tr>\n",
       "    <tr>\n",
       "      <th>2</th>\n",
       "      <td>Lasso Regression</td>\n",
       "      <td>3.527539</td>\n",
       "      <td>0.787069</td>\n",
       "    </tr>\n",
       "    <tr>\n",
       "      <th>3</th>\n",
       "      <td>K Neighbors Regressor</td>\n",
       "      <td>3.331416</td>\n",
       "      <td>0.806368</td>\n",
       "    </tr>\n",
       "    <tr>\n",
       "      <th>4</th>\n",
       "      <td>Decision Tree Regressor</td>\n",
       "      <td>1.635381</td>\n",
       "      <td>0.955309</td>\n",
       "    </tr>\n",
       "    <tr>\n",
       "      <th>5</th>\n",
       "      <td>Random Forest Regressor</td>\n",
       "      <td>1.371763</td>\n",
       "      <td>0.967435</td>\n",
       "    </tr>\n",
       "    <tr>\n",
       "      <th>6</th>\n",
       "      <td>Gradient Boosting Regressor</td>\n",
       "      <td>1.571061</td>\n",
       "      <td>0.955411</td>\n",
       "    </tr>\n",
       "    <tr>\n",
       "      <th>7</th>\n",
       "      <td>Adaboost Regressor</td>\n",
       "      <td>2.042678</td>\n",
       "      <td>0.925492</td>\n",
       "    </tr>\n",
       "  </tbody>\n",
       "</table>\n",
       "</div>"
      ],
      "text/plain": [
       "                         Model      RMSE  R Squared\n",
       "0            Linear Regression  3.396436   0.801452\n",
       "1             Ridge Regression  3.394410   0.801677\n",
       "2             Lasso Regression  3.527539   0.787069\n",
       "3        K Neighbors Regressor  3.331416   0.806368\n",
       "4      Decision Tree Regressor  1.635381   0.955309\n",
       "5      Random Forest Regressor  1.371763   0.967435\n",
       "6  Gradient Boosting Regressor  1.571061   0.955411\n",
       "7           Adaboost Regressor  2.042678   0.925492"
      ]
     },
     "execution_count": 35,
     "metadata": {},
     "output_type": "execute_result"
    }
   ],
   "source": [
    "evaluation = pd.DataFrame({'Model': Model,\n",
    "                           'RMSE': RMSE,\n",
    "                           'R Squared': R_sq})\n",
    "print(\"FOLLOWING ARE THE TRAINING SCORES: \")\n",
    "evaluation"
   ]
  },
  {
   "cell_type": "markdown",
   "id": "76bb0625",
   "metadata": {},
   "source": [
    "Random Forest Regressor has the lowest RMSE, highest R-Squared"
   ]
  },
  {
   "cell_type": "code",
   "execution_count": 48,
   "id": "086bc8c1",
   "metadata": {},
   "outputs": [
    {
     "data": {
      "text/plain": [
       "RandomForestRegressor()"
      ]
     },
     "execution_count": 48,
     "metadata": {},
     "output_type": "execute_result"
    }
   ],
   "source": [
    "RandomForestRegressor()"
   ]
  },
  {
   "cell_type": "code",
   "execution_count": 50,
   "id": "6319dd46",
   "metadata": {},
   "outputs": [
    {
     "name": "stdout",
     "output_type": "stream",
     "text": [
      "RandomForestRegressor(bootstrap=False, max_depth=10, min_samples_split=100,\n",
      "                      n_estimators=510, random_state=1)\n",
      "R Squared: 0.8517516621641837\n"
     ]
    }
   ],
   "source": [
    "#tuning for number of trees\n",
    "from sklearn.model_selection import GridSearchCV\n",
    "param_grid = {'n_estimators':range(20,1001,10),\n",
    "              'max_depth':[10], #range(5,16,2), \n",
    "              'min_samples_split':[100], #range(200,1001,200), \n",
    "              \"bootstrap\": [True, False]}\n",
    "clf = GridSearchCV(RandomForestRegressor(random_state=1), \n",
    "                   param_grid = param_grid, scoring='r2', \n",
    "                   cv=5).fit(x_train_scaled, y_train)\n",
    "print(clf.best_estimator_) \n",
    "print(\"R Squared:\",clf.best_score_)"
   ]
  },
  {
   "cell_type": "markdown",
   "id": "8d2ae312",
   "metadata": {},
   "source": [
    "Since the tuning lower the R squared then we will remain result without tuning the model"
   ]
  },
  {
   "cell_type": "code",
   "execution_count": 51,
   "id": "6f83a271",
   "metadata": {},
   "outputs": [
    {
     "name": "stdout",
     "output_type": "stream",
     "text": [
      "Test RMSE:  1.1928707869877577\n",
      "Test R^2:  0.9776641642441374\n"
     ]
    }
   ],
   "source": [
    "#applying this model on test data\n",
    "x_test_scaled = pd.DataFrame(scaler.transform(X_test),\n",
    "                             columns = X_test.columns)\n",
    "clf = RandomForestRegressor().fit(x_train_scaled, y_train)\n",
    "print(\"Test RMSE: \", np.sqrt(mean_squared_error(y_test, clf.predict(x_test_scaled))))\n",
    "print(\"Test R^2: \", r2_score(y_test, clf.predict(x_test_scaled)))"
   ]
  },
  {
   "cell_type": "code",
   "execution_count": 55,
   "id": "afa15bae",
   "metadata": {},
   "outputs": [
    {
     "data": {
      "text/plain": [
       "array([254.19801843, 246.41267795, 245.57206827, 237.75727058,\n",
       "       236.14058768, 259.34496305, 243.27341166, 229.98259206,\n",
       "       250.61261024, 250.62478382, 247.35243373, 246.59430492,\n",
       "       241.23464351, 245.32184012, 250.31060588, 244.45040104,\n",
       "       235.39157473, 243.12970303, 250.52773509, 257.76276781,\n",
       "       248.61320274, 242.09650342, 247.50524556, 253.37266902,\n",
       "       256.80532586, 237.89311327, 261.71603143, 242.14133043,\n",
       "       253.61337794, 247.57744476, 238.70255049, 252.71251809,\n",
       "       261.25044196, 250.66950525, 241.49477364, 229.55636084,\n",
       "       244.42503523, 237.68028337, 243.18962032, 247.62319664,\n",
       "       243.79068085, 256.90148855, 240.09022505, 248.06925683,\n",
       "       254.96739858, 248.13797438, 248.63908503, 243.96973444,\n",
       "       239.36091027, 250.81228371, 242.09357969, 250.01786729,\n",
       "       243.15676843, 251.42067524, 258.89537682, 263.49239074,\n",
       "       243.98104868, 250.10730967, 248.20408472, 243.31314983,\n",
       "       254.70896284, 245.61268702, 240.98440485, 238.90641406,\n",
       "       244.73378588, 249.29487589, 263.05690476, 234.77842392,\n",
       "       245.98624416, 254.9048189 , 251.99834811, 255.5739115 ,\n",
       "       243.41957883, 233.81955506, 250.05136247, 242.18969971,\n",
       "       246.27256   , 252.93429979, 229.50252764, 244.97304253,\n",
       "       244.68660561, 247.51908197, 234.42440041, 248.42702052,\n",
       "       243.3471622 , 244.02430711, 239.04220005, 250.62119099,\n",
       "       243.09910209, 256.00790604, 248.42163506, 239.90528502,\n",
       "       241.54524532, 249.49092923, 250.01499572, 241.64584071,\n",
       "       256.72812807, 238.09466475, 256.3390743 , 248.30235696,\n",
       "       253.48483539, 243.44043036, 255.05562683, 234.45135639,\n",
       "       263.39676971, 239.650592  , 253.05749021, 246.98861928,\n",
       "       244.63534833, 250.50370308, 245.91489665, 262.0714255 ,\n",
       "       252.40311632, 263.43137819, 235.93261226, 238.23960329,\n",
       "       241.5041789 , 245.36280286, 249.06822326, 249.7961094 ,\n",
       "       238.50206127, 257.14387395, 255.31480059, 242.09989476,\n",
       "       239.65461176, 247.62840017, 256.44087368, 240.24806121,\n",
       "       241.16047012, 239.56625148, 233.64980613, 247.64495036,\n",
       "       244.58242195, 256.8493308 , 245.08403679, 230.01044777,\n",
       "       236.39907684, 236.76003057, 236.5379686 , 249.91367194,\n",
       "       249.25838454, 256.89123864, 254.65817819, 261.00072523,\n",
       "       230.68018034, 262.35144827, 244.0929509 , 244.4137611 ,\n",
       "       246.84668546, 262.02936217])"
      ]
     },
     "execution_count": 55,
     "metadata": {},
     "output_type": "execute_result"
    }
   ],
   "source": [
    "predictions = clf.predict(x_test_scaled)\n",
    "predictions"
   ]
  },
  {
   "cell_type": "code",
   "execution_count": 67,
   "id": "56314a18",
   "metadata": {},
   "outputs": [
    {
     "data": {
      "text/html": [
       "<div>\n",
       "<style scoped>\n",
       "    .dataframe tbody tr th:only-of-type {\n",
       "        vertical-align: middle;\n",
       "    }\n",
       "\n",
       "    .dataframe tbody tr th {\n",
       "        vertical-align: top;\n",
       "    }\n",
       "\n",
       "    .dataframe thead th {\n",
       "        text-align: right;\n",
       "    }\n",
       "</style>\n",
       "<table border=\"1\" class=\"dataframe\">\n",
       "  <thead>\n",
       "    <tr style=\"text-align: right;\">\n",
       "      <th></th>\n",
       "      <th>body_weight</th>\n",
       "    </tr>\n",
       "  </thead>\n",
       "  <tbody>\n",
       "    <tr>\n",
       "      <th>90</th>\n",
       "      <td>254.061875</td>\n",
       "    </tr>\n",
       "    <tr>\n",
       "      <th>254</th>\n",
       "      <td>246.623683</td>\n",
       "    </tr>\n",
       "    <tr>\n",
       "      <th>283</th>\n",
       "      <td>245.541477</td>\n",
       "    </tr>\n",
       "    <tr>\n",
       "      <th>445</th>\n",
       "      <td>237.735053</td>\n",
       "    </tr>\n",
       "    <tr>\n",
       "      <th>461</th>\n",
       "      <td>235.990978</td>\n",
       "    </tr>\n",
       "  </tbody>\n",
       "</table>\n",
       "</div>"
      ],
      "text/plain": [
       "     body_weight\n",
       "90    254.061875\n",
       "254   246.623683\n",
       "283   245.541477\n",
       "445   237.735053\n",
       "461   235.990978"
      ]
     },
     "execution_count": 67,
     "metadata": {},
     "output_type": "execute_result"
    }
   ],
   "source": [
    "y_test.head()"
   ]
  },
  {
   "cell_type": "markdown",
   "id": "5eb861eb",
   "metadata": {},
   "source": [
    "the difference between the predicted value and test data is pretty small."
   ]
  },
  {
   "cell_type": "code",
   "execution_count": null,
   "id": "ec76e303",
   "metadata": {},
   "outputs": [],
   "source": []
  }
 ],
 "metadata": {
  "kernelspec": {
   "display_name": "Python 3",
   "language": "python",
   "name": "python3"
  },
  "language_info": {
   "codemirror_mode": {
    "name": "ipython",
    "version": 3
   },
   "file_extension": ".py",
   "mimetype": "text/x-python",
   "name": "python",
   "nbconvert_exporter": "python",
   "pygments_lexer": "ipython3",
   "version": "3.8.8"
  }
 },
 "nbformat": 4,
 "nbformat_minor": 5
}
